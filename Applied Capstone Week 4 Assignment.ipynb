{
 "cells": [
  {
   "cell_type": "markdown",
   "metadata": {},
   "source": [
    "A description of the problem and a discussion of the background. (15 marks)\n",
    "\n",
    "As Korean BBQ in Singapore is gaining popularity, My Company is looking to open a Korean BBQ restaurants in Clementi,Singapore. Our main focus is to capture the young people market as study have shown that more young people like Korean BBQ. We will be targeting student studying in Singapore university of Social Sciences, Singapore institute of Management, Ngee Ann Polytechnic.\n",
    "\n"
   ]
  },
  {
   "cell_type": "markdown",
   "metadata": {},
   "source": [
    "A description of the data and how it will be used to solve the problem. (15 marks)\n",
    "We can make use of foursquare to get all the korean bbq restaurant near the schools in the radius of 2000, we are assuming the student will only travel up to 2km since they might have lesson after their lunch.\n",
    "After using foursqure to get the details of all korean bbq restaurant nearby, we will find out the price and the rating of the shop. Price and Rating will help us gauge how our business should be focusing more on in terms of customer service, food , affortability. By having location , we can stragetically plan which place to operate our stall so that more customer will come to our store to have korean BBQ."
   ]
  }
 ],
 "metadata": {
  "kernelspec": {
   "display_name": "Python 3",
   "language": "python",
   "name": "python3"
  },
  "language_info": {
   "codemirror_mode": {
    "name": "ipython",
    "version": 3
   },
   "file_extension": ".py",
   "mimetype": "text/x-python",
   "name": "python",
   "nbconvert_exporter": "python",
   "pygments_lexer": "ipython3",
   "version": "3.7.3"
  }
 },
 "nbformat": 4,
 "nbformat_minor": 2
}
